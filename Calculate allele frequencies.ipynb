{
 "cells": [
  {
   "cell_type": "code",
   "execution_count": null,
   "id": "2cb7b456",
   "metadata": {},
   "outputs": [],
   "source": [
    "#This Python script is designed to calculate allele frequencies at variant positions specified in a VCF file by inspecting a corresponding BAM file.\n",
    "#The code does the following:\n",
    "\n",
    "#It reads through the VCF file to identify variant positions (chromosome and position).\n",
    "#It uses the BAM file to count the occurrences of each allele (A, C, G, T) at those positions.\n",
    "#It calculates the allele frequencies at these positions and writes them to an output file.\n",
    "\n",
    "import pysam\n",
    "from cyvcf2 import VCF\n",
    "\n",
    "bam_path = \"/home/dingrongruo.yu/liz.9.11.19_GMVLE/results/mapping/HG003_NA24149_Ashkenazim_father.trim.sort.markdup.bam\"\n",
    "vcf_file_path = '/home/dingrongruo.yu/liz.9.11.19_GMVLE/results/variants/HG003_NA24149_Ashkenazim_father.trim.dv.vcf'\n",
    "output_file_path = '/home/dingrongruo.yu/liz.9.11.19_GMVLE/features/output.txt'\n",
    "\n",
    "def calculate_allele_frequency(bam_file, chromosome, position):\n",
    "    # Fetch pileup for the specific position\n",
    "    pileup_columns = bam_file.pileup(chromosome, position-1, position, stepper='nofilter')\n",
    "\n",
    "    allele_counts = {}\n",
    "    total_count = 0\n",
    "\n",
    "    for pileup_column in pileup_columns:\n",
    "        if pileup_column.reference_pos == position-1:  # Check if the position matches\n",
    "            for pileup_read in pileup_column.pileups:\n",
    "                if not pileup_read.is_del and not pileup_read.is_refskip:  # Ignore deletions and ref skips\n",
    "                    base = pileup_read.alignment.query_sequence[pileup_read.query_position]\n",
    "                    allele_counts[base] = allele_counts.get(base, 0) + 1\n",
    "                    total_count += 1\n",
    "\n",
    "    # Check for division by zero\n",
    "    if total_count > 0:\n",
    "        allele_frequencies = {allele: count / total_count for allele, count in allele_counts.items()}\n",
    "    else:\n",
    "        allele_frequencies = {}\n",
    "\n",
    "    return allele_frequencies\n",
    "\n",
    "def calculate_frequencies_for_variants(bam_path, vcf_file_path, output_file_path):\n",
    "    bam_file = pysam.AlignmentFile(bam_path, \"rb\")\n",
    "    vcf = VCF(vcf_file_path)\n",
    "\n",
    "    with open(output_file_path, 'w') as output_file:\n",
    "        for record in vcf:\n",
    "            chrom = record.CHROM\n",
    "            pos = record.POS\n",
    "            freqs = calculate_allele_frequency(bam_file, chrom, pos)\n",
    "            \n",
    "            output_file.write(f\"{chrom}\\t{pos}\\t{freqs}\\n\")\n",
    "\n",
    "    bam_file.close()\n",
    "\n",
    "# Run the frequency calculation\n",
    "calculate_frequencies_for_variants(bam_path, vcf_file_path, output_file_path)\n"
   ]
  }
 ],
 "metadata": {
  "kernelspec": {
   "display_name": "Python 3 (ipykernel)",
   "language": "python",
   "name": "python3"
  },
  "language_info": {
   "codemirror_mode": {
    "name": "ipython",
    "version": 3
   },
   "file_extension": ".py",
   "mimetype": "text/x-python",
   "name": "python",
   "nbconvert_exporter": "python",
   "pygments_lexer": "ipython3",
   "version": "3.9.13"
  }
 },
 "nbformat": 4,
 "nbformat_minor": 5
}
